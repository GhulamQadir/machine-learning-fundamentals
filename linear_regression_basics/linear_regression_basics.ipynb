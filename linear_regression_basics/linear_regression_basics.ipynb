{
 "cells": [
  {
   "cell_type": "code",
   "execution_count": 13,
   "id": "5a323253",
   "metadata": {},
   "outputs": [],
   "source": [
    "import numpy as np\n",
    "import matplotlib.pyplot as plt\n",
    "from sklearn.linear_model import LinearRegression"
   ]
  },
  {
   "cell_type": "code",
   "execution_count": 14,
   "id": "73f817ff",
   "metadata": {},
   "outputs": [
    {
     "data": {
      "text/plain": [
       "'\\nLinear Regression Example with scikit-learn\\n\\nWe are fitting a simple linear regression model using one feature (x) and one target (y).\\n\\nKey concepts:\\n-------------\\n1. Samples vs Features:\\n   - Each row of X represents one \"sample\" (an observation).\\n   - Each column of X represents one \"feature\" (a variable describing the sample).\\n   - In this dataset, we have 5 samples and 1 feature.\\n     -> Shape of X = (5, 1)\\n   - Samples = row, features = columns in a row\\n\\n2. Why reshape x to (-1,1)?\\n   - np.array([1,2,3,4,5]) by default has shape (5,) -> a 1D array.\\n   - scikit-learn expects input features X to be 2D: (n_samples, n_features).\\n   - .reshape(-1,1) converts (5,) into (5,1):\\n         [[1],\\n          [2],\\n          [3],\\n          [4],\\n          [5]]\\n     Here:\\n     - 5 rows = 5 samples\\n     - 1 column = 1 feature\\n     \\n\\n3. Formula for -1 in reshape:\\n       arr = np.array([1,2,3,4,5,6])   # 6 elements\\n       arr.reshape(-1, 2) -> (6 / 2) = 3 rows, so shape = (3,2)\\n       arr.reshape(2, -1) -> (6 / 2) = 3 columns, so shape = (2,3)\\n\\n   In our case:\\n       total_elements = 5\\n       reshape(-1,1) => rows = 5 / 1 = 5\\n       Final shape = (5,1)\\n       \\n4. Why y is not reshaped:\\n   - Target (y) should be a 1D array with shape (n_samples,).\\n   - y = np.array([3,4,2,5,6]) has shape (5,) which is correct.\\n   - If we reshaped y into (5,1), sklearn would interpret it as a multi-output regression problem.\\n   - Since we have only ONE target per sample, we keep y as 1D.\\n\\nSummary:\\n--------\\n- X (features) must be 2D: shape = (n_samples, n_features)\\n- y (target) must be 1D: shape = (n_samples,)\\n'"
      ]
     },
     "execution_count": 14,
     "metadata": {},
     "output_type": "execute_result"
    }
   ],
   "source": [
    "\"\"\"\n",
    "Linear Regression Example with scikit-learn\n",
    "\n",
    "We are fitting a simple linear regression model using one feature (x) and one target (y).\n",
    "\n",
    "Key concepts:\n",
    "-------------\n",
    "1. Samples vs Features:\n",
    "   - Each row of X represents one \"sample\" (an observation).\n",
    "   - Each column of X represents one \"feature\" (a variable describing the sample).\n",
    "   - In this dataset, we have 5 samples and 1 feature.\n",
    "     -> Shape of X = (5, 1)\n",
    "   - Samples = row, features = columns in a row\n",
    "\n",
    "2. Why reshape x to (-1,1)?\n",
    "   - np.array([1,2,3,4,5]) by default has shape (5,) -> a 1D array.\n",
    "   - scikit-learn expects input features X to be 2D: (n_samples, n_features).\n",
    "   - .reshape(-1,1) converts (5,) into (5,1):\n",
    "         [[1],\n",
    "          [2],\n",
    "          [3],\n",
    "          [4],\n",
    "          [5]]\n",
    "     Here:\n",
    "     - 5 rows = 5 samples\n",
    "     - 1 column = 1 feature\n",
    "     \n",
    "\n",
    "3. Formula for -1 in reshape:\n",
    "       arr = np.array([1,2,3,4,5,6])   # 6 elements\n",
    "       arr.reshape(-1, 2) -> (6 / 2) = 3 rows, so shape = (3,2)\n",
    "       arr.reshape(2, -1) -> (6 / 2) = 3 columns, so shape = (2,3)\n",
    "\n",
    "   In our case:\n",
    "       total_elements = 5\n",
    "       reshape(-1,1) => rows = 5 / 1 = 5\n",
    "       Final shape = (5,1)\n",
    "       \n",
    "4. Why y is not reshaped:\n",
    "   - Target (y) should be a 1D array with shape (n_samples,).\n",
    "   - y = np.array([3,4,2,5,6]) has shape (5,) which is correct.\n",
    "   - If we reshaped y into (5,1), sklearn would interpret it as a multi-output regression problem.\n",
    "   - Since we have only ONE target per sample, we keep y as 1D.\n",
    "\n",
    "Summary:\n",
    "--------\n",
    "- X (features) must be 2D: shape = (n_samples, n_features)\n",
    "- y (target) must be 1D: shape = (n_samples,)\n",
    "\"\"\""
   ]
  },
  {
   "cell_type": "code",
   "execution_count": 15,
   "id": "4abc4d98",
   "metadata": {},
   "outputs": [
    {
     "name": "stdout",
     "output_type": "stream",
     "text": [
      "Intercept (B0): 1.9000000000000004\n",
      "Slope/Gradient (B1): [0.7]\n"
     ]
    }
   ],
   "source": [
    "# Input feature (independent variable)\n",
    "x = np.array([1,2,3,4,5]).reshape(-1,1)  # Shape: (5,1) -> 5 samples, 1 feature\n",
    "\n",
    "# Target variable (dependent variable)\n",
    "y = np.array([3,4,2,5,6])                # Shape: (5,)  -> 5 target values\n",
    "\n",
    "# Train linear regression model\n",
    "model = LinearRegression()\n",
    "model.fit(x, y)\n",
    "\n",
    "print(\"Intercept (B0):\", model.intercept_)\n",
    "print(\"Slope/Gradient (B1):\", model.coef_)"
   ]
  },
  {
   "cell_type": "code",
   "execution_count": 16,
   "id": "df95b230",
   "metadata": {},
   "outputs": [
    {
     "data": {
      "text/plain": [
       "\"\\nBehind the scenes: What happens inside .fit()\\n\\nSklearn's LinearRegression().fit(X, y) is basically solving the formula for \\na straight line:\\n\\n    ŷ = B0 + B1*x\\n\\nWhere:\\n    B0 = intercept (where line cuts y-axis)\\n    B1 = slope (how steep the line is)\\n\\nHow sklearn calculates B0 and B1?\\n--------------------------------\\nStep 1: Calculate mean of X and Y\\n    x̄ = Σxi / n\\n    ȳ = Σyi / n\\n\\nStep 2: Calculate slope (B1)\\n    Formula: B1 = Σ(xi - x̄)(yi - ȳ) / Σ(xi - x̄)²\\n\\nExample with our data:\\n    x̄ = (1+2+3+4+5)/5 = 3\\n    ȳ = (3+4+2+5+6)/5 = 4\\n\\n    Numerator = (1-3)(3-4) + (2-3)(4-4) + (3-3)(2-4) + (4-3)(5-4) + (5-3)(6-4)\\n              = 2 + 0 + 0 + 1 + 4 = 7\\n    Denominator = (1-3)² + (2-3)² + (3-3)² + (4-3)² + (5-3)²\\n                = 4 + 1 + 0 + 1 + 4 = 10\\n\\n    So, B1 = 7 / 10 = 0.7\\n\\nStep 3: Calculate intercept (B0)\\n    Formula: B0 = ȳ - B1 * x̄\\n    B0 = 4 - (0.7 * 3) = 1.9\\n\\n➡ Final line equation learned by model:\\n    ŷ = 1.9 + 0.7x\\n\\nSo whenever we call model.predict(), sklearn uses this learned formula.\\n\""
      ]
     },
     "execution_count": 16,
     "metadata": {},
     "output_type": "execute_result"
    }
   ],
   "source": [
    "\"\"\"\n",
    "Behind the scenes: What happens inside .fit()\n",
    "\n",
    "Sklearn's LinearRegression().fit(X, y) is basically solving the formula for \n",
    "a straight line:\n",
    "\n",
    "    ŷ = B0 + B1*x\n",
    "\n",
    "Where:\n",
    "    B0 = intercept (where line cuts y-axis)\n",
    "    B1 = slope (how steep the line is)\n",
    "\n",
    "How sklearn calculates B0 and B1?\n",
    "--------------------------------\n",
    "Step 1: Calculate mean of X and Y\n",
    "    x̄ = Σxi / n\n",
    "    ȳ = Σyi / n\n",
    "\n",
    "Step 2: Calculate slope (B1)\n",
    "    Formula: B1 = Σ(xi - x̄)(yi - ȳ) / Σ(xi - x̄)²\n",
    "\n",
    "Example with our data:\n",
    "    x̄ = (1+2+3+4+5)/5 = 3\n",
    "    ȳ = (3+4+2+5+6)/5 = 4\n",
    "\n",
    "    Numerator = (1-3)(3-4) + (2-3)(4-4) + (3-3)(2-4) + (4-3)(5-4) + (5-3)(6-4)\n",
    "              = 2 + 0 + 0 + 1 + 4 = 7\n",
    "    Denominator = (1-3)² + (2-3)² + (3-3)² + (4-3)² + (5-3)²\n",
    "                = 4 + 1 + 0 + 1 + 4 = 10\n",
    "\n",
    "    So, B1 = 7 / 10 = 0.7\n",
    "\n",
    "Step 3: Calculate intercept (B0)\n",
    "    Formula: B0 = ȳ - B1 * x̄\n",
    "    B0 = 4 - (0.7 * 3) = 1.9\n",
    "\n",
    "➡ Final line equation learned by model:\n",
    "    ŷ = 1.9 + 0.7x\n",
    "\n",
    "So whenever we call model.predict(), sklearn uses this learned formula.\n",
    "\"\"\""
   ]
  },
  {
   "cell_type": "code",
   "execution_count": 17,
   "id": "afa21a59",
   "metadata": {},
   "outputs": [
    {
     "name": "stdout",
     "output_type": "stream",
     "text": [
      "Predicted Values of model: [2.6 3.3 4.  4.7 5.4]\n"
     ]
    },
    {
     "data": {
      "image/png": "[encoded data removed]",
      "text/plain": [
       "<Figure size 640x480 with 1 Axes>"
      ]
     },
     "metadata": {},
     "output_type": "display_data"
    }
   ],
   "source": [
    "# Prediction\n",
    "y_pred = model.predict(x)\n",
    "print(\"Predicted Values of model:\",y_pred)\n",
    "\n",
    "# Plotting\n",
    "# Scatter plot -> shows the data points\n",
    "plt.scatter(x,y,color='blue')\n",
    "\n",
    "# Line plot -> shows the model's predicted regression line\n",
    "plt.plot(x,y_pred, color='red')\n",
    "\n",
    "plt.title(\"Simple linear regression\")\n",
    "plt.show()"
   ]
  },
  {
   "cell_type": "code",
   "execution_count": 18,
   "id": "8cf30b94",
   "metadata": {},
   "outputs": [
    {
     "name": "stdout",
     "output_type": "stream",
     "text": [
      "Slope (B1): [0.7]\n",
      "Intercept (B0): 1.9000000000000004\n",
      "Prediction for x=6: [6.1]\n"
     ]
    }
   ],
   "source": [
    "# Test prediction\n",
    "print(\"Slope (B1):\", model.coef_)      # Should be 0.7\n",
    "print(\"Intercept (B0):\", model.intercept_)  # Should be 1.9\n",
    "print(\"Prediction for x=6:\", model.predict([[6]]))  # ŷ = 1.9 + 0.7*6 = 6.1"
   ]
  },
  {
   "cell_type": "code",
   "execution_count": 19,
   "id": "5e56874c",
   "metadata": {},
   "outputs": [
    {
     "data": {
      "text/plain": [
       "\"\\nBehind the Scenes of Prediction & Error Calculation\\n---------------------------------------------------\\n\\n1. Prediction:\\n   Each predicted value is calculated using:\\n       ŷ = B0 + B1*x\\n   where:\\n       ŷ = predicted y\\n       B0 = intercept\\n       B1 = slope/gradient\\n\\n2. Error (residuals):\\n    Errors = Actual - Predicted\\n           = [3-2.6, 4-3.3, 2-4.0, 5-4.7, 6-5.4]\\n           = [0.4, 0.7, -2.0, 0.3, 0.6]\\n\\n3. Mean Squared Error (MSE):  (takes squares of errors then take average)\\n   MSE = (1/n) * Σ (y_actual - ŷ_predicted)^2\\n   Squares = [0.4², 0.7², (-2.0)², 0.3², 0.6²]\\n           = [0.16, 0.49, 4.00, 0.09, 0.36] --> Sum = 5.10\\n           MSE = 5.10 / 5 = 1.02\\n\\n4. Root Mean Squared Error (RMSE):\\n   RMSE = √MSE (square root of MSE)\\n\\n5. R² Score (goodness of fit):\\n   R² = 1 - (MSE numerator) / Σ (y_actual - y_mean)^2)\\n   Find mean of y --> y = (3+4+2+5+6) / 5 = 20/5 = 4\\n   Calculate numerator (same as MSE numerator)\\n   Calculate denominator: (y_actual - y_mean)2 = (3-4)2 + (4-4)2 + (2-4)2 + (5-4)2 + (6-4)2 = 1+0+4+1+4 = 10\\n   R² = 1 - (5.10/10) = 1 - 0.51 = 0.49\\n   \\n   - If R² ≈ 1 → Predictions are very close to actual values.\\n   - If R² ≈ 0 → Model is poor at predicting.\\n\\nSo when we call:\\n    model.predict(x)\\nIt internally applies the line equation (ŷ = B0 + B1*x) to every input\\nand gives predictions. Then we compare these predictions with the\\noriginal 'y' values to measure accuracy using MSE, RMSE, and R².\\n\""
      ]
     },
     "execution_count": 19,
     "metadata": {},
     "output_type": "execute_result"
    }
   ],
   "source": [
    "\"\"\"\n",
    "Behind the Scenes of Prediction & Error Calculation\n",
    "---------------------------------------------------\n",
    "\n",
    "1. Prediction:\n",
    "   Each predicted value is calculated using:\n",
    "       ŷ = B0 + B1*x\n",
    "   where:\n",
    "       ŷ = predicted y\n",
    "       B0 = intercept\n",
    "       B1 = slope/gradient\n",
    "\n",
    "2. Error (residuals):\n",
    "    Errors = Actual - Predicted\n",
    "           = [3-2.6, 4-3.3, 2-4.0, 5-4.7, 6-5.4]\n",
    "           = [0.4, 0.7, -2.0, 0.3, 0.6]\n",
    "\n",
    "3. Mean Squared Error (MSE):  (takes squares of errors then take average)\n",
    "   MSE = (1/n) * Σ (y_actual - ŷ_predicted)^2\n",
    "   Squares = [0.4², 0.7², (-2.0)², 0.3², 0.6²]\n",
    "           = [0.16, 0.49, 4.00, 0.09, 0.36] --> Sum = 5.10\n",
    "           MSE = 5.10 / 5 = 1.02\n",
    "\n",
    "4. Root Mean Squared Error (RMSE):\n",
    "   RMSE = √MSE (square root of MSE)\n",
    "\n",
    "5. R² Score (goodness of fit):\n",
    "   R² = 1 - (MSE numerator) / Σ (y_actual - y_mean)^2)\n",
    "   Find mean of y --> y = (3+4+2+5+6) / 5 = 20/5 = 4\n",
    "   Calculate numerator (same as MSE numerator)\n",
    "   Calculate denominator: (y_actual - y_mean)2 = (3-4)2 + (4-4)2 + (2-4)2 + (5-4)2 + (6-4)2 = 1+0+4+1+4 = 10\n",
    "   R² = 1 - (5.10/10) = 1 - 0.51 = 0.49\n",
    "   \n",
    "   - If R² ≈ 1 → Predictions are very close to actual values.\n",
    "   - If R² ≈ 0 → Model is poor at predicting.\n",
    "\n",
    "So when we call:\n",
    "    model.predict(x)\n",
    "It internally applies the line equation (ŷ = B0 + B1*x) to every input\n",
    "and gives predictions. Then we compare these predictions with the\n",
    "original 'y' values to measure accuracy using MSE, RMSE, and R².\n",
    "\"\"\""
   ]
  },
  {
   "cell_type": "code",
   "execution_count": 20,
   "id": "6bb5dc59",
   "metadata": {},
   "outputs": [
    {
     "name": "stdout",
     "output_type": "stream",
     "text": [
      "R² Score (model accuracy): 0.4899999999999999\n"
     ]
    }
   ],
   "source": [
    "# Calculate R² score (Coefficient of Determination)\n",
    "# Compares model's predicted y (from x) with actual y values\n",
    "# This tells us how well the model explains the variance in y\n",
    "# R² = 1 means perfect fit, closer to 0 means poor fit\n",
    "r2 = model.score(x,y)\n",
    "print(\"R² Score (model accuracy):\", r2)"
   ]
  },
  {
   "cell_type": "markdown",
   "id": "494523b4",
   "metadata": {},
   "source": [
    "## Testing Model with New Input"
   ]
  },
  {
   "cell_type": "code",
   "execution_count": 21,
   "id": "380cdd04",
   "metadata": {},
   "outputs": [
    {
     "name": "stdout",
     "output_type": "stream",
     "text": [
      "Predicated values of model:  [2.6 4.7 4.  4.  5.4]\n"
     ]
    },
    {
     "data": {
      "image/png": "[encoded data removed]",
      "text/plain": [
       "<Figure size 640x480 with 1 Axes>"
      ]
     },
     "metadata": {},
     "output_type": "display_data"
    }
   ],
   "source": [
    "# Create new x values for testing/prediction\n",
    "x_new = np.array([1,4,3,3,5]).reshape(-1,1)\n",
    "\n",
    "# Actual output values (y) corresponding to the new inputs (x_new) for comparison\n",
    "y_new = np.array([2,6,4.5,4.5,7])\n",
    "\n",
    "# Predict y values for the new x inputs\n",
    "y_pred_new = model.predict(x_new)\n",
    "print(\"Predicated values of model: \",y_pred_new)\n",
    "\n",
    "# Plotting\n",
    "# Scatter plot -> shows the data points\n",
    "plt.scatter(x_new,y_new,color='blue')\n",
    "\n",
    "# Line plot -> shows the model's predicted regression line\n",
    "plt.plot(x_new,y_pred_new, color='red')\n",
    "\n",
    "plt.title(\"New Input\")\n",
    "plt.show()"
   ]
  },
  {
   "cell_type": "code",
   "execution_count": 22,
   "id": "1dae82f4",
   "metadata": {},
   "outputs": [
    {
     "name": "stdout",
     "output_type": "stream",
     "text": [
      "R² Score: 0.6426573426573424\n"
     ]
    }
   ],
   "source": [
    "# Compares model's predicted y (from x_new) with actual y_new values\n",
    "r2_new = model.score(x_new,y_new)\n",
    "print(\"R² Score:\", r2_new)"
   ]
  }
 ],
 "metadata": {
  "kernelspec": {
   "display_name": "Python 3",
   "language": "python",
   "name": "python3"
  },
  "language_info": {
   "codemirror_mode": {
    "name": "ipython",
    "version": 3
   },
   "file_extension": ".py",
   "mimetype": "text/x-python",
   "name": "python",
   "nbconvert_exporter": "python",
   "pygments_lexer": "ipython3",
   "version": "3.13.2"
  }
 },
 "nbformat": 4,
 "nbformat_minor": 5
}
