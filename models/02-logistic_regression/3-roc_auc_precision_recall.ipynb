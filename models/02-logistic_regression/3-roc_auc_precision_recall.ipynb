{
 "cells": [
  {
   "cell_type": "code",
   "execution_count": 19,
   "id": "71e8da2d",
   "metadata": {},
   "outputs": [],
   "source": [
    "import matplotlib.pyplot as plt\n",
    "from sklearn.metrics import roc_curve,roc_auc_score"
   ]
  },
  {
   "cell_type": "code",
   "execution_count": 20,
   "id": "2b5e11a0",
   "metadata": {},
   "outputs": [
    {
     "data": {
      "text/plain": [
       "'\\nx-axis = FPR (False Positive Rate)\\nFormula: FP / (FP + TN)\\n\\nHow many of the actual negative did we mistakenly called positive\\n\\ny-axis = TPR (True Positive Rate) = Recall\\nFormula = TP / (TP + FN)\\nHow many of the actual positives did we correctly catch?\\n\\nhigher threshold = high precision and low recall\\nlower threshold = low precision and high recall\\n'"
      ]
     },
     "execution_count": 20,
     "metadata": {},
     "output_type": "execute_result"
    }
   ],
   "source": [
    "# ROC: Receiver Operating Characteristic\n",
    "\n",
    "# It's a graph that shows how good a model is at distinguishing between two classes\n",
    "# Instead of fixing one threshold (0.5), we test all possible thresholds from 0 to 1\n",
    "\n",
    "'''\n",
    "x-axis = FPR (False Positive Rate)\n",
    "Formula: FP / (FP + TN)\n",
    "\n",
    "How many of the actual negative did we mistakenly called positive\n",
    "\n",
    "y-axis = TPR (True Positive Rate) = Recall\n",
    "Formula = TP / (TP + FN)\n",
    "How many of the actual positives did we correctly catch?\n",
    "\n",
    "higher threshold = high precision and low recall\n",
    "lower threshold = low precision and high recall\n",
    "'''"
   ]
  },
  {
   "cell_type": "code",
   "execution_count": 21,
   "id": "8145bbc0",
   "metadata": {},
   "outputs": [],
   "source": [
    "y_true = [1,1,0,1,0,1,0,0,1,0]  # True Labels\n",
    "y_scores = [0.95, 0.9, 0.85, 0.8, 0.7, 0.6, 0.4, 0.3, 0.2, 0.1] # Model Scores"
   ]
  },
  {
   "cell_type": "markdown",
   "id": "213543aa",
   "metadata": {},
   "source": [
    "### ROC (Receiver Operating Characteristic) Curve:\n",
    "- Plots the trade-off between:<br>\n",
    "• True Positive Rate (TPR) = TP / (TP + FN)<br>\n",
    "• False Positive Rate (FPR) = FP / (FP + TN)<br>\n",
    "\n",
    "- Each point on the curve represents a TPR and FPR for a specific threshold.\n",
    "\n",
    "As the threshold decreases, more samples are predicted True,\n",
    "increasing both TPR and FPR.\n",
    "\n",
    "### AUC (Area Under the Curve):\n",
    "- Represents the overall ability of the model to distinguish between classes.<br>\n",
    "• AUC = 1.0 → Perfect model<br>\n",
    "• AUC = 0.5 → Random guessing"
   ]
  },
  {
   "cell_type": "code",
   "execution_count": 22,
   "id": "f8dc56c3",
   "metadata": {},
   "outputs": [
    {
     "name": "stdout",
     "output_type": "stream",
     "text": [
      "fpr-->  [0.  0.  0.  0.2 0.2 0.4 0.4 0.8 0.8 1. ]\n",
      "tpr-->  [0.  0.2 0.4 0.4 0.6 0.6 0.8 0.8 1.  1. ]\n",
      "thresholds-->  [ inf 0.95 0.9  0.85 0.8  0.7  0.6  0.3  0.2  0.1 ]\n"
     ]
    }
   ],
   "source": [
    "# Calculate ROC curve values\n",
    "fpr, tpr, thresholds = roc_curve(y_true, y_scores)\n",
    "auc_score = roc_auc_score(y_true, y_scores)\n",
    "\n",
    "print(\"fpr--> \",fpr)\n",
    "print(\"tpr--> \",tpr)\n",
    "print(\"thresholds--> \",thresholds)"
   ]
  },
  {
   "cell_type": "code",
   "execution_count": 23,
   "id": "8ab30451",
   "metadata": {},
   "outputs": [
    {
     "data": {
      "image/png": "[encoded data removed]",
      "text/plain": [
       "<Figure size 640x480 with 1 Axes>"
      ]
     },
     "metadata": {},
     "output_type": "display_data"
    }
   ],
   "source": [
    "# Plot ROC curve\n",
    "plt.Figure(figsize=(5,5))\n",
    "plt.plot(fpr, tpr, color=\"blue\", label=f\"ROC Curve (AUC = {auc_score:.2f})\")\n",
    "plt.plot([0,1], [0,1], color='grey', linestyle=\"--\", label=\"Random Guess\")\n",
    "plt.xlabel(\"FPR\")\n",
    "plt.ylabel(\"TPR/Recall\")\n",
    "plt.legend(loc=\"lower right\")\n",
    "plt.grid(True)"
   ]
  },
  {
   "cell_type": "code",
   "execution_count": 24,
   "id": "681b6e3b",
   "metadata": {},
   "outputs": [
    {
     "name": "stdout",
     "output_type": "stream",
     "text": [
      "thresholds: inf | FPR: 0.0 | TPR: 0.0\n",
      "thresholds: 0.95 | FPR: 0.0 | TPR: 0.2\n",
      "thresholds: 0.9 | FPR: 0.0 | TPR: 0.4\n",
      "thresholds: 0.85 | FPR: 0.2 | TPR: 0.4\n",
      "thresholds: 0.8 | FPR: 0.2 | TPR: 0.6\n",
      "thresholds: 0.7 | FPR: 0.4 | TPR: 0.6\n",
      "thresholds: 0.6 | FPR: 0.4 | TPR: 0.8\n",
      "thresholds: 0.3 | FPR: 0.8 | TPR: 0.8\n",
      "thresholds: 0.2 | FPR: 0.8 | TPR: 1.0\n",
      "thresholds: 0.1 | FPR: 1.0 | TPR: 1.0\n"
     ]
    }
   ],
   "source": [
    "# Print threshold values for better understanding\n",
    "for i in range(len(thresholds)):\n",
    "    print(f\"thresholds: {thresholds[i]} | FPR: {fpr[i]} | TPR: {tpr[i]}\")"
   ]
  },
  {
   "cell_type": "code",
   "execution_count": 25,
   "id": "3be9968b",
   "metadata": {},
   "outputs": [
    {
     "data": {
      "text/plain": [
       "'\\nPrecision vs Recall Example (Logistic Regression)\\n\\nA logistic regression model outputs probabilities (0–1).\\nTo classify, we set a threshold (default = 0.5):\\n\\nProbability ≥ threshold → Predict True\\nProbability < threshold → Predict False\\n\\nMetrics:\\nRecall = TP / (TP + FN) → Out of all actual positive samples, how many were correctly predicted.\\nPrecision = TP / (TP + FP) → Out of all samples predicted as positive, how many were actually positive.\\n\\nExample:\\n10 patients → 5 sick (True), 5 healthy (False)\\n\\nCase 1: High threshold (0.9)\\nTP=2, FP=0 → Recall=0.4, Precision=1.0\\n→ Few detected, but all correct.\\n\\nCase 2: Low threshold (0.1)\\nTP=5, FP=5 → Recall=1.0, Precision=0.5\\n→ All detected, but many false alarms.\\n\\nLower threshold → higher recall, lower precision.\\nHigher threshold → higher precision, lower recall.\\n'"
      ]
     },
     "execution_count": 25,
     "metadata": {},
     "output_type": "execute_result"
    }
   ],
   "source": [
    "\"\"\"\n",
    "Precision vs Recall Example (Logistic Regression)\n",
    "\n",
    "A logistic regression model outputs probabilities (0–1).\n",
    "To classify, we set a threshold (default = 0.5):\n",
    "\n",
    "Probability ≥ threshold → Predict True\n",
    "Probability < threshold → Predict False\n",
    "\n",
    "Metrics:\n",
    "Recall = TP / (TP + FN) → Out of all actual positive samples, how many were correctly predicted.\n",
    "Precision = TP / (TP + FP) → Out of all samples predicted as positive, how many were actually positive.\n",
    "\n",
    "Example:\n",
    "10 patients → 5 sick (True), 5 healthy (False)\n",
    "\n",
    "Case 1: High threshold (0.9)\n",
    "TP=2, FP=0 → Recall=0.4, Precision=1.0\n",
    "→ Few detected, but all correct.\n",
    "\n",
    "Case 2: Low threshold (0.1)\n",
    "TP=5, FP=5 → Recall=1.0, Precision=0.5\n",
    "→ All detected, but many false alarms.\n",
    "\n",
    "Lower threshold → higher recall, lower precision.\n",
    "Higher threshold → higher precision, lower recall.\n",
    "\"\"\""
   ]
  }
 ],
 "metadata": {
  "kernelspec": {
   "display_name": "Python 3",
   "language": "python",
   "name": "python3"
  },
  "language_info": {
   "codemirror_mode": {
    "name": "ipython",
    "version": 3
   },
   "file_extension": ".py",
   "mimetype": "text/x-python",
   "name": "python",
   "nbconvert_exporter": "python",
   "pygments_lexer": "ipython3",
   "version": "3.13.2"
  }
 },
 "nbformat": 4,
 "nbformat_minor": 5
}
